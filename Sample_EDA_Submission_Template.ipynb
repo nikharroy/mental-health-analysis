{
  "nbformat": 4,
  "nbformat_minor": 0,
  "metadata": {
    "colab": {
      "private_outputs": true,
      "provenance": [],
      "collapsed_sections": [
        "vncDsAP0Gaoa",
        "w6K7xa23Elo4",
        "PH-0ReGfmX4f",
        "mDgbUHAGgjLW",
        "bKJF3rekwFvQ",
        "MSa1f5Uengrz",
        "GF8Ens_Soomf",
        "0wOQAZs5pc--",
        "K5QZ13OEpz2H",
        "lQ7QKXXCp7Bj",
        "448CDAPjqfQr",
        "KSlN3yHqYklG",
        "t6dVpIINYklI",
        "ijmpgYnKYklI",
        "-JiQyfWJYklI",
        "EM7whBJCYoAo",
        "fge-S5ZAYoAp",
        "85gYPyotYoAp",
        "RoGjAbkUYoAp",
        "4Of9eVA-YrdM",
        "iky9q4vBYrdO",
        "F6T5p64dYrdO",
        "y-Ehk30pYrdP",
        "bamQiAODYuh1",
        "QHF8YVU7Yuh3",
        "GwzvFGzlYuh3",
        "qYpmQ266Yuh3",
        "OH-pJp9IphqM",
        "bbFf2-_FphqN",
        "_ouA3fa0phqN",
        "Seke61FWphqN",
        "PIIx-8_IphqN",
        "t27r6nlMphqO",
        "r2jJGEOYphqO",
        "b0JNsNcRphqO",
        "BZR9WyysphqO",
        "jj7wYXLtphqO",
        "eZrbJ2SmphqO",
        "rFu4xreNphqO",
        "YJ55k-q6phqO",
        "gCFgpxoyphqP",
        "OVtJsKN_phqQ",
        "lssrdh5qphqQ",
        "U2RJ9gkRphqQ",
        "1M8mcRywphqQ",
        "tgIPom80phqQ",
        "JMzcOPDDphqR",
        "x-EpHcCOp1ci",
        "X_VqEhTip1ck",
        "8zGJKyg5p1ck",
        "PVzmfK_Ep1ck",
        "n3dbpmDWp1ck",
        "ylSl6qgtp1ck",
        "ZWILFDl5p1ck",
        "M7G43BXep1ck",
        "Ag9LCva-p1cl",
        "E6MkPsBcp1cl",
        "2cELzS2fp1cl",
        "3MPXvC8up1cl",
        "NC_X3p0fY2L0",
        "UV0SzAkaZNRQ",
        "YPEH6qLeZNRQ",
        "q29F0dvdveiT",
        "EXh0U9oCveiU",
        "22aHeOlLveiV",
        "JcMwzZxoAimU",
        "8G2x9gOozGDZ",
        "gCX9965dhzqZ",
        "gIfDvo9L0UH2"
      ]
    },
    "kernelspec": {
      "name": "python3",
      "display_name": "Python 3"
    },
    "language_info": {
      "name": "python"
    }
  },
  "cells": [
    {
      "cell_type": "markdown",
      "source": [
        "# **Project Name**    -\n",
        "Mental Health & Workplace Dynamics\n",
        "\n"
      ],
      "metadata": {
        "id": "vncDsAP0Gaoa"
      }
    },
    {
      "cell_type": "markdown",
      "source": [
        "##### **Project Type**    - EDA\n",
        "##### **Contribution**    - Individual- Nikhar Roy Chaudhuri"
      ],
      "metadata": {
        "id": "beRrZCGUAJYm"
      }
    },
    {
      "cell_type": "markdown",
      "source": [
        "# **Project Summary -**"
      ],
      "metadata": {
        "id": "FJNUwmbgGyua"
      }
    },
    {
      "cell_type": "markdown",
      "source": [
        "Write the summary here within 500-600 words.\n",
        "This project analyzes a workplace mental health survey to understand factors influencing employees’ decisions to seek treatment. The dataset includes demographics (age, gender, country), work-related variables (company size, remote work, tech status), and mental health factors (treatment history, benefits, stigma).\n",
        "\n",
        "Key insights show that most respondents are aged 25–35, with a majority being male. Employees with mental health benefits and supportive work environments are more likely to seek treatment. Work interference strongly correlates with higher treatment-seeking behavior.\n",
        "\n",
        "Visualizations such as bar charts, box plots, sunburst diagrams, and treemaps clearly reveal patterns across different groups. Correlation heatmaps highlight moderate links between work interference, treatment, and company size.\n",
        "\n",
        "The results emphasize the need for accessible mental health benefits, reducing workplace stigma, and training managers to support employees.\n",
        "\n",
        "Overall, this analysis helps organizations identify improvement areas to promote mental well-being, create a supportive culture, and boost employee satisfaction and productivity.\n",
        "\n",
        "\n",
        "\n"
      ],
      "metadata": {
        "id": "F6v_1wHtG2nS"
      }
    },
    {
      "cell_type": "markdown",
      "source": [
        "# **GitHub Link -**"
      ],
      "metadata": {
        "id": "w6K7xa23Elo4"
      }
    },
    {
      "cell_type": "markdown",
      "source": [
        "Provide your GitHub Link here.\n",
        "https://github.com/nikharroy/mental-health-analysis"
      ],
      "metadata": {
        "id": "h1o69JH3Eqqn"
      }
    },
    {
      "cell_type": "markdown",
      "source": [
        "# **Problem Statement**\n"
      ],
      "metadata": {
        "id": "yQaldy8SH6Dl"
      }
    },
    {
      "cell_type": "markdown",
      "source": [
        "**Write Problem Statement Here.**\n",
        "Despite growing awareness, mental health issues among employees often go unaddressed in many organizations. Many employees avoid seeking treatment due to lack of workplace support, stigma, or insufficient mental health resources.\n",
        "\n",
        "This project aims to analyze survey data to identify key demographic and workplace factors that influence employees' decisions to seek mental health treatment. By uncovering these patterns, we can help organizations design targeted policies and interventions to promote mental well-being, reduce stigma, and improve overall employee productivity and satisfaction."
      ],
      "metadata": {
        "id": "DpeJGUA3kjGy"
      }
    },
    {
      "cell_type": "markdown",
      "source": [
        "#### **Define Your Business Objective?**"
      ],
      "metadata": {
        "id": "PH-0ReGfmX4f"
      }
    },
    {
      "cell_type": "markdown",
      "source": [
        "Answer Here-The primary business objective of this project is to identify the key factors that encourage or discourage employees from seeking mental health treatment. By analyzing patterns in demographics, workplace support, and treatment-seeking behavior, the goal is to provide actionable insights that help organizations:\n",
        "\n",
        "Design effective mental health programs and benefits.\n",
        "Reduce workplace stigma around mental health.\n",
        "Improve employee well-being and retention.\n",
        "Enhance overall productivity and organizational culture.\n",
        "Ultimately, these insights will support data-driven decision-making to build healthier, more supportive, and more engaged workforces.\n",
        "\n"
      ],
      "metadata": {
        "id": "PhDvGCAqmjP1"
      }
    },
    {
      "cell_type": "markdown",
      "source": [
        "# **General Guidelines** : -  "
      ],
      "metadata": {
        "id": "mDgbUHAGgjLW"
      }
    },
    {
      "cell_type": "markdown",
      "source": [
        "1.   Well-structured, formatted, and commented code is required.\n",
        "2.   Exception Handling, Production Grade Code & Deployment Ready Code will be a plus. Those students will be awarded some additional credits.\n",
        "     \n",
        "     The additional credits will have advantages over other students during Star Student selection.\n",
        "       \n",
        "             [ Note: - Deployment Ready Code is defined as, the whole .ipynb notebook should be executable in one go\n",
        "                       without a single error logged. ]\n",
        "\n",
        "3.   Each and every logic should have proper comments.\n",
        "4. You may add as many number of charts you want. Make Sure for each and every chart the following format should be answered.\n",
        "        \n",
        "\n",
        "```\n",
        "# Chart visualization code\n",
        "```\n",
        "            \n",
        "\n",
        "*   Why did you pick the specific chart?\n",
        "*   What is/are the insight(s) found from the chart?\n",
        "* Will the gained insights help creating a positive business impact?\n",
        "Are there any insights that lead to negative growth? Justify with specific reason.\n",
        "\n",
        "5. You have to create at least 20 logical & meaningful charts having important insights.\n",
        "\n",
        "\n",
        "[ Hints : - Do the Vizualization in  a structured way while following \"UBM\" Rule.\n",
        "\n",
        "U - Univariate Analysis,\n",
        "\n",
        "B - Bivariate Analysis (Numerical - Categorical, Numerical - Numerical, Categorical - Categorical)\n",
        "\n",
        "M - Multivariate Analysis\n",
        " ]\n",
        "\n",
        "\n",
        "\n"
      ],
      "metadata": {
        "id": "ZrxVaUj-hHfC"
      }
    },
    {
      "cell_type": "markdown",
      "source": [
        "# ***Let's Begin !***"
      ],
      "metadata": {
        "id": "O_i_v8NEhb9l"
      }
    },
    {
      "cell_type": "markdown",
      "source": [
        "## ***1. Know Your Data***"
      ],
      "metadata": {
        "id": "HhfV-JJviCcP"
      }
    },
    {
      "cell_type": "markdown",
      "source": [
        "### Import Libraries"
      ],
      "metadata": {
        "id": "Y3lxredqlCYt"
      }
    },
    {
      "cell_type": "code",
      "source": [
        "# Import Libraries"
      ],
      "metadata": {
        "id": "M8Vqi-pPk-HR"
      },
      "execution_count": null,
      "outputs": []
    },
    {
      "cell_type": "code",
      "source": [
        "# pandas is used for data manipulation and analysis\n",
        "import pandas as pd\n",
        "\n",
        "# numpy is used for numerical operations (we may need it later)\n",
        "import numpy as np\n",
        "\n",
        "# matplotlib and seaborn are used for data visualization\n",
        "import matplotlib.pyplot as plt\n",
        "import seaborn as sns\n",
        "\n",
        "# set seaborn style for better looking plots\n",
        "sns.set(style=\"whitegrid\")\n"
      ],
      "metadata": {
        "id": "FPQOoVNRIo0d"
      },
      "execution_count": null,
      "outputs": []
    },
    {
      "cell_type": "markdown",
      "source": [
        "### Dataset Loading"
      ],
      "metadata": {
        "id": "3RnN4peoiCZX"
      }
    },
    {
      "cell_type": "code",
      "source": [
        "# Load Dataset"
      ],
      "metadata": {
        "id": "4CkvbW_SlZ_R"
      },
      "execution_count": null,
      "outputs": []
    },
    {
      "cell_type": "code",
      "source": [
        "# Read the CSV file into a pandas DataFrame\n",
        "# Make sure the path matches your file location\n",
        "df = pd.read_csv(\"survey.csv\")"
      ],
      "metadata": {
        "id": "KBIZv2ykIzFV"
      },
      "execution_count": null,
      "outputs": []
    },
    {
      "cell_type": "markdown",
      "source": [
        "### Dataset First View"
      ],
      "metadata": {
        "id": "x71ZqKXriCWQ"
      }
    },
    {
      "cell_type": "code",
      "source": [
        "# Dataset First Look"
      ],
      "metadata": {
        "id": "LWNFOSvLl09H"
      },
      "execution_count": null,
      "outputs": []
    },
    {
      "cell_type": "code",
      "source": [
        "# Display the first 5 rows of the dataset\n",
        "# This helps us understand what columns we have and get a feel for the data\n",
        "df.head()"
      ],
      "metadata": {
        "id": "8_bboEhNI4JP"
      },
      "execution_count": null,
      "outputs": []
    },
    {
      "cell_type": "markdown",
      "source": [
        "### Dataset Rows & Columns count"
      ],
      "metadata": {
        "id": "7hBIi_osiCS2"
      }
    },
    {
      "cell_type": "code",
      "source": [
        "# Dataset Rows & Columns count"
      ],
      "metadata": {
        "id": "Kllu7SJgmLij"
      },
      "execution_count": null,
      "outputs": []
    },
    {
      "cell_type": "code",
      "source": [
        "# Get the number of rows and columns using shape\n",
        "print(\"The dataset has\", df.shape[0], \"rows and\", df.shape[1], \"columns.\")\n",
        "\n",
        "# Alternatively, you can display as a DataFrame if you want it prettier\n",
        "pd.DataFrame({\n",
        "    'Rows': [df.shape[0]],\n",
        "    'Columns': [df.shape[1]]\n",
        "})"
      ],
      "metadata": {
        "id": "VkgbBiMfI74b"
      },
      "execution_count": null,
      "outputs": []
    },
    {
      "cell_type": "markdown",
      "source": [
        "### Dataset Information"
      ],
      "metadata": {
        "id": "JlHwYmJAmNHm"
      }
    },
    {
      "cell_type": "code",
      "source": [
        "# Dataset Info"
      ],
      "metadata": {
        "id": "e9hRXRi6meOf"
      },
      "execution_count": null,
      "outputs": []
    },
    {
      "cell_type": "code",
      "source": [
        "# Get general info about the DataFrame\n",
        "# This shows number of entries, column names, non-null counts, and data types\n",
        "df.info()\n"
      ],
      "metadata": {
        "id": "Bg6J4FtjJceo"
      },
      "execution_count": null,
      "outputs": []
    },
    {
      "cell_type": "code",
      "source": [
        "# Get a quick statistical summary for numerical columns\n",
        "df.describe()"
      ],
      "metadata": {
        "id": "mg2weebeKQQU"
      },
      "execution_count": null,
      "outputs": []
    },
    {
      "cell_type": "markdown",
      "source": [
        "#### Duplicate Values"
      ],
      "metadata": {
        "id": "35m5QtbWiB9F"
      }
    },
    {
      "cell_type": "code",
      "source": [
        "# Dataset Duplicate Value Count"
      ],
      "metadata": {
        "id": "1sLdpKYkmox0"
      },
      "execution_count": null,
      "outputs": []
    },
    {
      "cell_type": "code",
      "source": [
        "# Check how many duplicate rows are in the dataset\n",
        "duplicate_count = df.duplicated().sum()\n",
        "\n",
        "print(\"Number of duplicate rows:\", duplicate_count)\n",
        "\n",
        "# If you'd like to see those rows, you can use:\n",
        "# df[df.duplicated()]"
      ],
      "metadata": {
        "id": "ibIL8R4TKXaQ"
      },
      "execution_count": null,
      "outputs": []
    },
    {
      "cell_type": "markdown",
      "source": [
        "#### Missing Values/Null Values"
      ],
      "metadata": {
        "id": "PoPl-ycgm1ru"
      }
    },
    {
      "cell_type": "code",
      "source": [
        "# Missing Values/Null Values Count"
      ],
      "metadata": {
        "id": "GgHWkxvamxVg"
      },
      "execution_count": null,
      "outputs": []
    },
    {
      "cell_type": "code",
      "source": [
        "# Check how many missing (null) values are in each column\n",
        "missing_values = df.isnull().sum()\n",
        "\n",
        "# Display the count of missing values\n",
        "print(\"Missing values in each column:\")\n",
        "print(missing_values)\n",
        "\n",
        "# Alternatively, show as a DataFrame (nicer format)\n",
        "missing_df = pd.DataFrame({\n",
        "    'Column Name': df.columns,\n",
        "    'Missing Values': df.isnull().sum(),\n",
        "    'Percentage (%)': (df.isnull().sum() / len(df)) * 100\n",
        "})\n",
        "\n",
        "# Sort by most missing\n",
        "missing_df = missing_df.sort_values(by='Missing Values', ascending=False)\n",
        "missing_df\n"
      ],
      "metadata": {
        "id": "DzW3VYqMKt5j"
      },
      "execution_count": null,
      "outputs": []
    },
    {
      "cell_type": "code",
      "source": [
        "# Visualizing the missing values"
      ],
      "metadata": {
        "id": "3q5wnI3om9sJ"
      },
      "execution_count": null,
      "outputs": []
    },
    {
      "cell_type": "code",
      "source": [
        "# Plot a heatmap to visually see missing data locations\n",
        "plt.figure(figsize=(10, 6))\n",
        "sns.heatmap(df.isnull(), cbar=False, cmap='viridis')\n",
        "plt.title(\"Heatmap of Missing Values\")\n",
        "plt.show()\n",
        "\n",
        "# Or plot a bar plot of missing values\n",
        "missing_df_plot = missing_df[missing_df['Missing Values'] > 0]\n",
        "plt.figure(figsize=(10, 6))\n",
        "sns.barplot(x='Missing Values', y='Column Name', data=missing_df_plot, palette=\"crest\")\n",
        "plt.title(\"Number of Missing Values per Column\")\n",
        "plt.show()"
      ],
      "metadata": {
        "id": "YC9dFgcFLILz"
      },
      "execution_count": null,
      "outputs": []
    },
    {
      "cell_type": "markdown",
      "source": [
        "### What did you know about your dataset?"
      ],
      "metadata": {
        "id": "H0kj-8xxnORC"
      }
    },
    {
      "cell_type": "markdown",
      "source": [
        "Answer Here-This dataset is from a survey conducted to understand mental health in the tech industry, focusing on demographics, mental health history, work environment, and attitudes towards mental health at work.\n",
        "The dataset contains 1,259 rows and 27 columns.\n",
        "Important columns include Age, Gender, Country, state, self_employed, family_history, treatment, and workplace support factors like benefits, leave, and anonymity.\n",
        "There are missing values in some columns, especially comments, state, work_interfere, and self_employed, which need to be handled during cleaning.\n",
        "There are no duplicate rows in the dataset, so no deduplication is required.\n",
        "The data has a mix of categorical and numerical features, requiring different types of analysis and visualization."
      ],
      "metadata": {
        "id": "gfoNAAC-nUe_"
      }
    },
    {
      "cell_type": "markdown",
      "source": [
        "## ***2. Understanding Your Variables***"
      ],
      "metadata": {
        "id": "nA9Y7ga8ng1Z"
      }
    },
    {
      "cell_type": "code",
      "source": [
        "# Dataset Columns"
      ],
      "metadata": {
        "id": "j7xfkqrt5Ag5"
      },
      "execution_count": null,
      "outputs": []
    },
    {
      "cell_type": "code",
      "source": [
        "# Display all column names in the dataset\n",
        "print(\"Columns in the dataset:\")\n",
        "print(df.columns.tolist())"
      ],
      "metadata": {
        "id": "ohWTC6OONo2T"
      },
      "execution_count": null,
      "outputs": []
    },
    {
      "cell_type": "code",
      "source": [
        "# Dataset Describe"
      ],
      "metadata": {
        "id": "DnOaZdaE5Q5t"
      },
      "execution_count": null,
      "outputs": []
    },
    {
      "cell_type": "code",
      "source": [
        "# Get statistical summary for numerical columns\n",
        "df.describe()\n"
      ],
      "metadata": {
        "id": "Zq4qQf37Nw8C"
      },
      "execution_count": null,
      "outputs": []
    },
    {
      "cell_type": "markdown",
      "source": [
        "### Variables Description"
      ],
      "metadata": {
        "id": "PBTbrJXOngz2"
      }
    },
    {
      "cell_type": "markdown",
      "source": [
        "Answer Here-  Variables Description\n",
        "\n",
        "Timestamp: Date and time when the survey was submitted.\n",
        "Age: Respondent's age (note: contains outliers and errors that need cleaning).\n",
        "Gender: Respondent's gender.\n",
        "Country: Country where the respondent lives.\n",
        "state: U.S. state or territory (if applicable).\n",
        "self_employed: Whether the respondent is self-employed.\n",
        "family_history: If there is a family history of mental illness.\n",
        "treatment: Whether the respondent has sought treatment for mental health.\n",
        "work_interfere: If mental health condition interferes with work.\n",
        "no_employees: Size of the respondent’s company.\n",
        "remote_work: If they work remotely at least 50% of the time.\n",
        "tech_company: Whether their employer is primarily a tech company.\n",
        "benefits: Whether mental health benefits are provided.\n",
        "care_options: Awareness of mental health care options provided by employer.\n",
        "wellness_program: If employer has discussed mental health as part of wellness program.\n",
        "seek_help: If resources are provided to learn about mental health and seek help.\n",
        "anonymity: If anonymity is protected when using mental health resources.\n",
        "leave: Ease of taking medical leave for mental health conditions.\n",
        "mental_health_consequence: Perceived negative consequences of discussing mental health at work.\n",
        "phys_health_consequence: Perceived negative consequences of discussing physical health at work.\n",
        "coworkers: Willingness to discuss mental health with coworkers.\n",
        "supervisor: Willingness to discuss mental health with supervisors.\n",
        "mental_health_interview: Willingness to discuss mental health during a job interview.\n",
        "phys_health_interview: Willingness to discuss physical health during a job interview.\n",
        "mental_vs_physical: If employer takes mental health as seriously as physical health.\n",
        "obs_consequence: If they have observed negative consequences for colleagues with mental health issues.\n",
        "comments: Additional free-text comments."
      ],
      "metadata": {
        "id": "aJV4KIxSnxay"
      }
    },
    {
      "cell_type": "markdown",
      "source": [
        "### Check Unique Values for each variable."
      ],
      "metadata": {
        "id": "u3PMJOP6ngxN"
      }
    },
    {
      "cell_type": "code",
      "source": [
        "# Check Unique Values for each variable."
      ],
      "metadata": {
        "id": "zms12Yq5n-jE"
      },
      "execution_count": null,
      "outputs": []
    },
    {
      "cell_type": "code",
      "source": [
        "# Loop through each column and print the number of unique values\n",
        "for column in df.columns:\n",
        "    unique_vals = df[column].nunique()\n",
        "    print(f\"{column}: {unique_vals} unique values\")"
      ],
      "metadata": {
        "id": "yd4sVRguOnm-"
      },
      "execution_count": null,
      "outputs": []
    },
    {
      "cell_type": "markdown",
      "source": [
        "## 3. ***Data Wrangling***"
      ],
      "metadata": {
        "id": "dauF4eBmngu3"
      }
    },
    {
      "cell_type": "markdown",
      "source": [
        "### Data Wrangling Code"
      ],
      "metadata": {
        "id": "bKJF3rekwFvQ"
      }
    },
    {
      "cell_type": "code",
      "source": [
        "# Write your code to make your dataset analysis ready."
      ],
      "metadata": {
        "id": "wk-9a2fpoLcV"
      },
      "execution_count": null,
      "outputs": []
    },
    {
      "cell_type": "code",
      "source": [
        "#  Fix invalid ages\n",
        "df = df[(df['Age'] >= 18) & (df['Age'] <= 100)]\n",
        "\n",
        "# Standardize Gender\n",
        "df['Gender'] = df['Gender'].str.lower().str.strip()\n",
        "\n",
        "df['Gender'] = df['Gender'].replace([\n",
        "    'female', 'f', 'woman', 'cis female', 'trans female', 'female (trans)', 'femake', 'woman '\n",
        "], 'female')\n",
        "\n",
        "df['Gender'] = df['Gender'].replace([\n",
        "    'male', 'm', 'man', 'cis male', 'male (cis)', 'male ', 'msle', 'malr', 'mail'\n",
        "], 'male')\n",
        "\n",
        "df['Gender'] = df['Gender'].apply(lambda x: x if x in ['male', 'female'] else 'other')\n",
        "\n",
        "#  Drop columns safely\n",
        "df = df.drop(columns=['comments', 'state'], errors='ignore')\n",
        "\n",
        "#  Fill missing values\n",
        "for col in ['self_employed', 'work_interfere']:\n",
        "    df[col] = df[col].fillna(df[col].mode()[0])\n",
        "\n",
        "#  Final checks\n",
        "print(\"Shape after cleaning:\", df.shape)\n",
        "print(\"Remaining missing values:\\n\", df.isnull().sum())"
      ],
      "metadata": {
        "id": "2e_ggrzkSf-w"
      },
      "execution_count": null,
      "outputs": []
    },
    {
      "cell_type": "markdown",
      "source": [
        "### What all manipulations have you done and insights you found?"
      ],
      "metadata": {
        "id": "MSa1f5Uengrz"
      }
    },
    {
      "cell_type": "markdown",
      "source": [
        "Answer Here-What all manipulations have you done and insights you found?\n",
        "Removed invalid ages: Filtered out respondents with unrealistic ages (only kept ages between 18 and 100). This helped remove outliers and improve data quality.\n",
        "Standardized gender entries: Cleaned and grouped different variations of gender labels into three main categories: male, female, and other. This ensures consistency and makes analysis easier.\n",
        "Dropped columns with high missing values or low relevance: The comments and state columns were dropped since they contained mostly free text or were not relevant for this analysis.\n",
        "Handled missing values: Filled missing values in self_employed and work_interfere columns using their mode (most frequent value). This ensured no remaining null values and made the dataset analysis-ready.\n",
        "Checked final shape and missing values: After cleaning, the final dataset has 1,251 rows and 25 columns, with no missing values left.\n",
        "\n",
        " Insights after cleaning\n",
        "The dataset is now fully clean and ready for analysis, without any null or inconsistent entries.\n",
        "By standardizing categories and fixing outliers, further analysis (like visualizations or modeling) will be more accurate and reliable.\n"
      ],
      "metadata": {
        "id": "LbyXE7I1olp8"
      }
    },
    {
      "cell_type": "markdown",
      "source": [
        "## ***4. Data Vizualization, Storytelling & Experimenting with charts : Understand the relationships between variables***"
      ],
      "metadata": {
        "id": "GF8Ens_Soomf"
      }
    },
    {
      "cell_type": "markdown",
      "source": [
        "#### Chart - 1"
      ],
      "metadata": {
        "id": "0wOQAZs5pc--"
      }
    },
    {
      "cell_type": "code",
      "source": [
        "# Chart - 1 visualization code"
      ],
      "metadata": {
        "id": "7v_ESjsspbW7"
      },
      "execution_count": null,
      "outputs": []
    },
    {
      "cell_type": "code",
      "source": [
        "#Chart 1: Distribution of Gender\n",
        "\n",
        "\n",
        "# Countplot to see the distribution of gender among respondents\n",
        "plt.figure(figsize=(8, 5))\n",
        "sns.countplot(x='Gender', data=df, palette='Set2')\n",
        "plt.title('Distribution of Gender among Respondents')\n",
        "plt.xlabel('Gender')\n",
        "plt.ylabel('Count')\n",
        "plt.show()\n"
      ],
      "metadata": {
        "id": "LyKxX8sKVLrb"
      },
      "execution_count": null,
      "outputs": []
    },
    {
      "cell_type": "markdown",
      "source": [
        "##### 1. Why did you pick the specific chart?"
      ],
      "metadata": {
        "id": "K5QZ13OEpz2H"
      }
    },
    {
      "cell_type": "markdown",
      "source": [
        "Answer Here-I chose this count plot because it clearly shows the distribution of respondents by gender. This helps us understand the demographic composition of the survey sample at a glance. It’s important to know who the majority participants are before exploring mental health trends by group.\n",
        "\n"
      ],
      "metadata": {
        "id": "XESiWehPqBRc"
      }
    },
    {
      "cell_type": "markdown",
      "source": [
        "##### 2. What is/are the insight(s) found from the chart?"
      ],
      "metadata": {
        "id": "lQ7QKXXCp7Bj"
      }
    },
    {
      "cell_type": "markdown",
      "source": [
        "Answer Here-The chart shows that most respondents identified as male, followed by female, and a small group identified as other. This indicates that the tech workforce in this survey is male-dominated, and future analyses should consider this imbalance when interpreting results."
      ],
      "metadata": {
        "id": "C_j1G7yiqdRP"
      }
    },
    {
      "cell_type": "markdown",
      "source": [
        "##### 3. Will the gained insights help creating a positive business impact?\n",
        "Are there any insights that lead to negative growth? Justify with specific reason."
      ],
      "metadata": {
        "id": "448CDAPjqfQr"
      }
    },
    {
      "cell_type": "markdown",
      "source": [
        "Answer Here-Yes, these insights can help create a positive business impact. Understanding that most respondents are male allows organizations to tailor mental health programs to better reach and support them while also creating targeted initiatives for underrepresented groups (female and other gender identities).\n",
        "There are no direct negative growth insights here, but ignoring minority groups could harm inclusivity and employee satisfaction in the long term, potentially impacting retention and brand reputation."
      ],
      "metadata": {
        "id": "3cspy4FjqxJW"
      }
    },
    {
      "cell_type": "markdown",
      "source": [
        "#### Chart - 2"
      ],
      "metadata": {
        "id": "KSlN3yHqYklG"
      }
    },
    {
      "cell_type": "code",
      "source": [
        "# Chart - 2 visualization code"
      ],
      "metadata": {
        "id": "R4YgtaqtYklH"
      },
      "execution_count": null,
      "outputs": []
    },
    {
      "cell_type": "code",
      "source": [
        "#chart 2: Treatment vs Gender\n",
        "\n",
        "\n",
        "plt.figure(figsize=(8, 6))\n",
        "sns.countplot(x='Gender', hue='treatment', data=df, palette='Set1')\n",
        "plt.title('Treatment Seeking Behavior by Gender')\n",
        "plt.xlabel('Gender')\n",
        "plt.ylabel('Count')\n",
        "plt.legend(title='Sought Treatment')\n",
        "plt.show()"
      ],
      "metadata": {
        "id": "fFd64t2PWHht"
      },
      "execution_count": null,
      "outputs": []
    },
    {
      "cell_type": "markdown",
      "source": [
        "##### 1. Why did you pick the specific chart?"
      ],
      "metadata": {
        "id": "t6dVpIINYklI"
      }
    },
    {
      "cell_type": "markdown",
      "source": [
        "Answer Here-I chose this grouped count plot to understand how mental health treatment-seeking behavior varies across different gender groups. It visually compares those who sought treatment versus those who did not within each gender, which helps identify potential disparities in accessing mental health support."
      ],
      "metadata": {
        "id": "5aaW0BYyYklI"
      }
    },
    {
      "cell_type": "markdown",
      "source": [
        "##### 2. What is/are the insight(s) found from the chart?"
      ],
      "metadata": {
        "id": "ijmpgYnKYklI"
      }
    },
    {
      "cell_type": "markdown",
      "source": [
        "Answer Here- The chart shows that a higher proportion of female respondents sought mental health treatment compared to males. Among males, there is a noticeable group who did not seek treatment. The \"other\" gender category has relatively few respondents but shows a tendency toward seeking treatment as well. This suggests that females may be more open to addressing mental health issues than males."
      ],
      "metadata": {
        "id": "PSx9atu2YklI"
      }
    },
    {
      "cell_type": "markdown",
      "source": [
        "##### 3. Will the gained insights help creating a positive business impact?\n",
        "Are there any insights that lead to negative growth? Justify with specific reason."
      ],
      "metadata": {
        "id": "-JiQyfWJYklI"
      }
    },
    {
      "cell_type": "markdown",
      "source": [
        "Answer Here-Yes, these insights can help create targeted mental health awareness and support campaigns. Knowing that males are less likely to seek treatment can guide organizations to create safe spaces, reduce stigma, and encourage them to access resources.\n",
        "Ignoring this insight could negatively impact employee well-being and productivity, especially among male employees who might avoid treatment due to stigma or lack of support."
      ],
      "metadata": {
        "id": "BcBbebzrYklV"
      }
    },
    {
      "cell_type": "markdown",
      "source": [
        "#### Chart - 3"
      ],
      "metadata": {
        "id": "EM7whBJCYoAo"
      }
    },
    {
      "cell_type": "code",
      "source": [
        "# Chart - 3 visualization code"
      ],
      "metadata": {
        "id": "t6GMdE67YoAp"
      },
      "execution_count": null,
      "outputs": []
    },
    {
      "cell_type": "code",
      "source": [
        "#Chart 3: Family history of mental illness (Pie Chart)\n",
        "# -----------------------------\n",
        "\n",
        "# Count the values\n",
        "family_counts = df['family_history'].value_counts()\n",
        "\n",
        "# Create a pie chart\n",
        "plt.figure(figsize=(7, 7))\n",
        "plt.pie(family_counts, labels=family_counts.index, autopct='%1.1f%%', colors=sns.color_palette('pastel'))\n",
        "plt.title('Proportion of Respondents with Family History of Mental Illness')\n",
        "plt.show()"
      ],
      "metadata": {
        "id": "3qgQY3-LXG3u"
      },
      "execution_count": null,
      "outputs": []
    },
    {
      "cell_type": "markdown",
      "source": [
        "##### 1. Why did you pick the specific chart?"
      ],
      "metadata": {
        "id": "fge-S5ZAYoAp"
      }
    },
    {
      "cell_type": "markdown",
      "source": [
        "Answer Here-I chose a pie chart because it effectively shows the proportion of respondents who reported having a family history of mental illness. Pie charts are useful for highlighting parts of a whole and quickly communicate overall composition."
      ],
      "metadata": {
        "id": "5dBItgRVYoAp"
      }
    },
    {
      "cell_type": "markdown",
      "source": [
        "##### 2. What is/are the insight(s) found from the chart?"
      ],
      "metadata": {
        "id": "85gYPyotYoAp"
      }
    },
    {
      "cell_type": "markdown",
      "source": [
        "Answer Here-The chart shows that around 39% of respondents have a family history of mental illness, while about 61% do not. This suggests that a significant portion of employees may have a genetic or environmental predisposition to mental health issues."
      ],
      "metadata": {
        "id": "4jstXR6OYoAp"
      }
    },
    {
      "cell_type": "markdown",
      "source": [
        "##### 3. Will the gained insights help creating a positive business impact?\n",
        "Are there any insights that lead to negative growth? Justify with specific reason."
      ],
      "metadata": {
        "id": "RoGjAbkUYoAp"
      }
    },
    {
      "cell_type": "markdown",
      "source": [
        "Answer Here-Yes, these insights can help organizations design targeted mental health initiatives, knowing that many employees might have personal or family experiences with mental illness. Proactive education and support programs can reduce stigma and encourage early intervention.\n",
        "There are no direct negative growth implications here, but if these insights are ignored, organizations risk higher absenteeism, lower productivity, and increased turnover due to unaddressed mental health challenges."
      ],
      "metadata": {
        "id": "zfJ8IqMcYoAp"
      }
    },
    {
      "cell_type": "markdown",
      "source": [
        "#### Chart - 4"
      ],
      "metadata": {
        "id": "4Of9eVA-YrdM"
      }
    },
    {
      "cell_type": "code",
      "source": [
        "# Chart - 4 visualization code"
      ],
      "metadata": {
        "id": "irlUoxc8YrdO"
      },
      "execution_count": null,
      "outputs": []
    },
    {
      "cell_type": "code",
      "source": [
        "#Chart 4: Age distribution by treatment status (Box Plot)\n",
        "# -----------------------------\n",
        "\n",
        "plt.figure(figsize=(10, 6))\n",
        "sns.boxplot(x='treatment', y='Age', data=df, palette='coolwarm')\n",
        "plt.title('Age Distribution by Mental Health Treatment Status')\n",
        "plt.xlabel('Sought Treatment')\n",
        "plt.ylabel('Age')\n",
        "plt.show()"
      ],
      "metadata": {
        "id": "_SJzvkVSYKGU"
      },
      "execution_count": null,
      "outputs": []
    },
    {
      "cell_type": "markdown",
      "source": [
        "##### 1. Why did you pick the specific chart?"
      ],
      "metadata": {
        "id": "iky9q4vBYrdO"
      }
    },
    {
      "cell_type": "markdown",
      "source": [
        "Answer Here-I chose a box plot to visualize the distribution of ages among those who have and have not sought mental health treatment. A box plot is effective for comparing distributions, showing medians, quartiles, and potential outliers in age data for each group."
      ],
      "metadata": {
        "id": "aJRCwT6DYrdO"
      }
    },
    {
      "cell_type": "markdown",
      "source": [
        "##### 2. What is/are the insight(s) found from the chart?"
      ],
      "metadata": {
        "id": "F6T5p64dYrdO"
      }
    },
    {
      "cell_type": "markdown",
      "source": [
        "Answer Here- The chart shows that respondents who sought treatment tend to have a slightly higher median age compared to those who did not. There are also some older respondents (outliers) in both groups, but overall, the age ranges are similar. This suggests that age might have a mild influence on treatment-seeking behavior, with slightly older employees being more open to seeking help."
      ],
      "metadata": {
        "id": "Xx8WAJvtYrdO"
      }
    },
    {
      "cell_type": "markdown",
      "source": [
        "##### 3. Will the gained insights help creating a positive business impact?\n",
        "Are there any insights that lead to negative growth? Justify with specific reason."
      ],
      "metadata": {
        "id": "y-Ehk30pYrdP"
      }
    },
    {
      "cell_type": "markdown",
      "source": [
        "Answer Here-Yes, these insights can help businesses design mental health initiatives that are age-sensitive. Knowing that slightly older employees might be more proactive about seeking help can guide targeted communication and training programs for different age groups.\n",
        "There are no negative growth insights here, but ignoring age-based preferences could reduce engagement and lead to less effective support programs."
      ],
      "metadata": {
        "id": "jLNxxz7MYrdP"
      }
    },
    {
      "cell_type": "markdown",
      "source": [
        "#### Chart - 5"
      ],
      "metadata": {
        "id": "bamQiAODYuh1"
      }
    },
    {
      "cell_type": "code",
      "source": [
        "# Chart - 5 visualization code"
      ],
      "metadata": {
        "id": "TIJwrbroYuh3"
      },
      "execution_count": null,
      "outputs": []
    },
    {
      "cell_type": "code",
      "source": [
        "#Chart 5: Work Interference vs Treatment (Stacked Bar)\n",
        "# -----------------------------\n",
        "\n",
        "# Create a cross-tab of work_interfere and treatment\n",
        "work_treatment = pd.crosstab(df['work_interfere'], df['treatment'])\n",
        "\n",
        "# Plot as stacked bar\n",
        "work_treatment.plot(kind='bar', stacked=True, figsize=(10, 6), color=['#ff9999', '#66b3ff'])\n",
        "plt.title('Work Interference and Mental Health Treatment')\n",
        "plt.xlabel('Work Interference')\n",
        "plt.ylabel('Number of Respondents')\n",
        "plt.legend(title='Sought Treatment')\n",
        "plt.xticks(rotation=0)\n",
        "plt.show()"
      ],
      "metadata": {
        "id": "AmtsBcSVZCE-"
      },
      "execution_count": null,
      "outputs": []
    },
    {
      "cell_type": "markdown",
      "source": [
        "##### 1. Why did you pick the specific chart?"
      ],
      "metadata": {
        "id": "QHF8YVU7Yuh3"
      }
    },
    {
      "cell_type": "markdown",
      "source": [
        "Answer HereI chose a stacked bar chart because it helps to compare multiple groups within each category clearly. This type of chart allows us to see how treatment-seeking behavior differs across levels of work interference, providing a visual breakdown of both \"Yes\" and \"No\" responses together in one bar."
      ],
      "metadata": {
        "id": "dcxuIMRPYuh3"
      }
    },
    {
      "cell_type": "markdown",
      "source": [
        "##### 2. What is/are the insight(s) found from the chart?"
      ],
      "metadata": {
        "id": "GwzvFGzlYuh3"
      }
    },
    {
      "cell_type": "markdown",
      "source": [
        "Answer Here-The chart shows that respondents who reported that their mental health \"often\" or \"rarely\" interferes with work are more likely to have sought treatment. Meanwhile, those who reported \"never\" interfering have a much higher proportion of not seeking treatment. Interestingly, the \"sometimes\" group has the largest number of respondents but also a large group who did not seek treatment, suggesting a potential gap in support or awareness."
      ],
      "metadata": {
        "id": "uyqkiB8YYuh3"
      }
    },
    {
      "cell_type": "markdown",
      "source": [
        "##### 3. Will the gained insights help creating a positive business impact?\n",
        "Are there any insights that lead to negative growth? Justify with specific reason."
      ],
      "metadata": {
        "id": "qYpmQ266Yuh3"
      }
    },
    {
      "cell_type": "markdown",
      "source": [
        "Answer Here- Yes, these insights can help employers design targeted interventions. Companies can focus on employees who report occasional interference (\"sometimes\") and provide more proactive resources to encourage them to seek help before problems worsen.\n",
        "If these patterns are ignored, it could lead to decreased productivity and increased absenteeism, which would negatively impact business outcomes. Addressing these gaps can create a healthier, more supportive work environment and improve employee well-being and performance."
      ],
      "metadata": {
        "id": "_WtzZ_hCYuh4"
      }
    },
    {
      "cell_type": "markdown",
      "source": [
        "#### Chart - 6"
      ],
      "metadata": {
        "id": "OH-pJp9IphqM"
      }
    },
    {
      "cell_type": "code",
      "source": [
        "# Chart - 6 visualization code"
      ],
      "metadata": {
        "id": "kuRf4wtuphqN"
      },
      "execution_count": null,
      "outputs": []
    },
    {
      "cell_type": "code",
      "source": [
        "#Chart 6: Perceived mental health consequences (Horizontal bar)\n",
        "\n",
        "\n",
        "# Count responses\n",
        "consequence_counts = df['mental_health_consequence'].value_counts()\n",
        "\n",
        "# Plot horizontal bar chart\n",
        "plt.figure(figsize=(8, 5))\n",
        "sns.barplot(x=consequence_counts.values, y=consequence_counts.index, palette='viridis')\n",
        "plt.title('Perceived Negative Consequences of Discussing Mental Health at Work')\n",
        "plt.xlabel('Number of Respondents')\n",
        "plt.ylabel('Perception')\n",
        "plt.show()"
      ],
      "metadata": {
        "id": "7faXPepQZ1Sq"
      },
      "execution_count": null,
      "outputs": []
    },
    {
      "cell_type": "markdown",
      "source": [
        "##### 1. Why did you pick the specific chart?"
      ],
      "metadata": {
        "id": "bbFf2-_FphqN"
      }
    },
    {
      "cell_type": "markdown",
      "source": [
        "Answer Here-I chose a horizontal bar chart because it is an effective way to display categorical data with long text labels, such as perceptions about negative consequences. This layout improves readability and clearly shows the number of respondents in each category."
      ],
      "metadata": {
        "id": "loh7H2nzphqN"
      }
    },
    {
      "cell_type": "markdown",
      "source": [
        "##### 2. What is/are the insight(s) found from the chart?"
      ],
      "metadata": {
        "id": "_ouA3fa0phqN"
      }
    },
    {
      "cell_type": "markdown",
      "source": [
        "Answer Here-The chart shows that most respondents do not believe there would be negative consequences for discussing mental health issues with their employer, while a significant number selected \"Maybe,\" suggesting uncertainty. A smaller but notable group believes there would be negative consequences. This indicates that although many feel safe, there is still a large group that hesitates or fears potential risks."
      ],
      "metadata": {
        "id": "VECbqPI7phqN"
      }
    },
    {
      "cell_type": "markdown",
      "source": [
        "##### 3. Will the gained insights help creating a positive business impact?\n",
        "Are there any insights that lead to negative growth? Justify with specific reason."
      ],
      "metadata": {
        "id": "Seke61FWphqN"
      }
    },
    {
      "cell_type": "markdown",
      "source": [
        "Answer Here-Yes, these insights can guide employers to improve workplace culture and communication strategies. Knowing that a large group is uncertain (\"Maybe\") highlights the need for stronger assurances and policies to make employees feel safe.\n",
        "If these concerns are not addressed, it could lead to underreporting of mental health issues, reduced engagement, and lower morale — ultimately harming productivity and retention."
      ],
      "metadata": {
        "id": "DW4_bGpfphqN"
      }
    },
    {
      "cell_type": "markdown",
      "source": [
        "#### Chart - 7"
      ],
      "metadata": {
        "id": "PIIx-8_IphqN"
      }
    },
    {
      "cell_type": "code",
      "source": [
        "# Chart - 7 visualization code"
      ],
      "metadata": {
        "id": "lqAIGUfyphqO"
      },
      "execution_count": null,
      "outputs": []
    },
    {
      "cell_type": "code",
      "source": [
        " #Chart 7: Number of respondents by company size (Line Chart)\n",
        "# -----------------------------\n",
        "\n",
        "# Count respondents by company size\n",
        "company_counts = df['no_employees'].value_counts().sort_index()\n",
        "\n",
        "# Plot line chart\n",
        "plt.figure(figsize=(10, 6))\n",
        "sns.lineplot(x=company_counts.index, y=company_counts.values, marker='o', color='purple')\n",
        "plt.title('Number of Respondents by Company Size')\n",
        "plt.xlabel('Company Size')\n",
        "plt.ylabel('Number of Respondents')\n",
        "plt.xticks(rotation=45)\n",
        "plt.grid(True)\n",
        "plt.show()"
      ],
      "metadata": {
        "id": "0RDfdCPNalT_"
      },
      "execution_count": null,
      "outputs": []
    },
    {
      "cell_type": "markdown",
      "source": [
        "##### 1. Why did you pick the specific chart?"
      ],
      "metadata": {
        "id": "t27r6nlMphqO"
      }
    },
    {
      "cell_type": "markdown",
      "source": [
        "Answer Here-I chose a line chart because it clearly shows trends in the number of respondents across different company sizes. The connected points help to visualize the fluctuations and patterns more smoothly than individual bars would."
      ],
      "metadata": {
        "id": "iv6ro40sphqO"
      }
    },
    {
      "cell_type": "markdown",
      "source": [
        "##### 2. What is/are the insight(s) found from the chart?"
      ],
      "metadata": {
        "id": "r2jJGEOYphqO"
      }
    },
    {
      "cell_type": "markdown",
      "source": [
        "Answer Here-The chart shows that respondents are most commonly from very small companies (1–5) and mid-size companies (6–25, 26–100). There is a sharp drop in participation for companies with 500–1000 employees. Larger organizations (\"More than 1000\") also have significant representation. This indicates that mental health surveys reach both small startups and large corporations, but there's lower engagement in mid-large sized companies (500–1000)."
      ],
      "metadata": {
        "id": "Po6ZPi4hphqO"
      }
    },
    {
      "cell_type": "markdown",
      "source": [
        "##### 3. Will the gained insights help creating a positive business impact?\n",
        "Are there any insights that lead to negative growth? Justify with specific reason."
      ],
      "metadata": {
        "id": "b0JNsNcRphqO"
      }
    },
    {
      "cell_type": "markdown",
      "source": [
        "Answer Here-Yes, these insights can help target mental health initiatives by company size. Companies with lower participation, like those in the 500–1000 range, might require more focused outreach to understand and support their employees' mental health needs.\n",
        "Ignoring this gap could lead to missed opportunities for engagement, potentially resulting in lower employee satisfaction and higher turnover in that segment."
      ],
      "metadata": {
        "id": "xvSq8iUTphqO"
      }
    },
    {
      "cell_type": "markdown",
      "source": [
        "#### Chart - 8"
      ],
      "metadata": {
        "id": "BZR9WyysphqO"
      }
    },
    {
      "cell_type": "code",
      "source": [
        "# Chart - 8 visualization code"
      ],
      "metadata": {
        "id": "TdPTWpAVphqO"
      },
      "execution_count": null,
      "outputs": []
    },
    {
      "cell_type": "code",
      "source": [
        "#Chart 8: Donut chart — Remote work distribution\n",
        "# -----------------------------\n",
        "\n",
        "# Count values\n",
        "remote_counts = df['remote_work'].value_counts()\n",
        "\n",
        "# Create pie chart\n",
        "plt.figure(figsize=(8, 8))\n",
        "plt.pie(remote_counts, labels=remote_counts.index, autopct='%1.1f%%', startangle=90, colors=sns.color_palette('pastel'))\n",
        "\n",
        "# Draw a circle in the center to make it a donut\n",
        "centre_circle = plt.Circle((0, 0), 0.70, fc='white')\n",
        "fig = plt.gcf()\n",
        "fig.gca().add_artist(centre_circle)\n",
        "\n",
        "plt.title('Distribution of Remote Work Status')\n",
        "plt.show()"
      ],
      "metadata": {
        "id": "haJVu9sFcG44"
      },
      "execution_count": null,
      "outputs": []
    },
    {
      "cell_type": "markdown",
      "source": [
        "##### 1. Why did you pick the specific chart?"
      ],
      "metadata": {
        "id": "jj7wYXLtphqO"
      }
    },
    {
      "cell_type": "markdown",
      "source": [
        "Answer Here- I chose a donut chart because it offers a modern, visually appealing way to show proportions while keeping the focus on the parts of a whole. The open center also makes it more stylish and easier to read than a traditional pie chart."
      ],
      "metadata": {
        "id": "Ob8u6rCTphqO"
      }
    },
    {
      "cell_type": "markdown",
      "source": [
        "##### 2. What is/are the insight(s) found from the chart?"
      ],
      "metadata": {
        "id": "eZrbJ2SmphqO"
      }
    },
    {
      "cell_type": "markdown",
      "source": [
        "Answer Here- The chart shows that about 30% of respondents work remotely at least 50% of the time, while around 70% do not. This indicates that most employees in this survey are primarily working on-site."
      ],
      "metadata": {
        "id": "mZtgC_hjphqO"
      }
    },
    {
      "cell_type": "markdown",
      "source": [
        "##### 3. Will the gained insights help creating a positive business impact?\n",
        "Are there any insights that lead to negative growth? Justify with specific reason."
      ],
      "metadata": {
        "id": "rFu4xreNphqO"
      }
    },
    {
      "cell_type": "markdown",
      "source": [
        "Answer Here-Yes, these insights can help organizations understand the current distribution of remote work and plan mental health support accordingly. For example, on-site employees may need more in-person support resources, while remote employees might benefit from virtual wellness programs.\n",
        "Ignoring this distinction could lead to ineffective support programs and reduced engagement among remote workers.\n"
      ],
      "metadata": {
        "id": "ey_0qi68phqO"
      }
    },
    {
      "cell_type": "markdown",
      "source": [
        "#### Chart - 9"
      ],
      "metadata": {
        "id": "YJ55k-q6phqO"
      }
    },
    {
      "cell_type": "code",
      "source": [
        "# Chart - 9 visualization code"
      ],
      "metadata": {
        "id": "B2aS4O1ophqO"
      },
      "execution_count": null,
      "outputs": []
    },
    {
      "cell_type": "code",
      "source": [
        "# -----------------------------\n",
        "# Chart 9: Benefits vs Treatment (Stacked Column)\n",
        "# -----------------------------\n",
        "\n",
        "# Create crosstab\n",
        "benefits_treatment = pd.crosstab(df['benefits'], df['treatment'])\n",
        "\n",
        "# Plot as stacked column\n",
        "benefits_treatment.plot(kind='bar', stacked=True, figsize=(8, 6), color=['#ff9999', '#66b3ff'])\n",
        "plt.title('Availability of Mental Health Benefits vs Treatment Status')\n",
        "plt.xlabel('Benefits Availability')\n",
        "plt.ylabel('Number of Respondents')\n",
        "plt.xticks(rotation=0)\n",
        "plt.legend(title='Sought Treatment')\n",
        "plt.show()\n"
      ],
      "metadata": {
        "id": "F5cn4HNldBE0"
      },
      "execution_count": null,
      "outputs": []
    },
    {
      "cell_type": "markdown",
      "source": [
        "##### 1. Why did you pick the specific chart?"
      ],
      "metadata": {
        "id": "gCFgpxoyphqP"
      }
    },
    {
      "cell_type": "markdown",
      "source": [
        "Answer Here-I chose a stacked column chart because it is a clear and commonly used way to compare parts of a whole across different categories. It helps to show both the total number of respondents in each benefits group and the breakdown of those who did or did not seek treatment."
      ],
      "metadata": {
        "id": "TVxDimi2phqP"
      }
    },
    {
      "cell_type": "markdown",
      "source": [
        "##### 2. What is/are the insight(s) found from the chart?"
      ],
      "metadata": {
        "id": "OVtJsKN_phqQ"
      }
    },
    {
      "cell_type": "markdown",
      "source": [
        "Answer - The chart shows that respondents who have mental health benefits available are more likely to seek treatment compared to those who do not have benefits or are unsure. This suggests a positive relationship between the availability of mental health benefits and the likelihood of seeking professional help."
      ],
      "metadata": {
        "id": "ngGi97qjphqQ"
      }
    },
    {
      "cell_type": "markdown",
      "source": [
        "##### 3. Will the gained insights help creating a positive business impact?\n",
        "Are there any insights that lead to negative growth? Justify with specific reason."
      ],
      "metadata": {
        "id": "lssrdh5qphqQ"
      }
    },
    {
      "cell_type": "markdown",
      "source": [
        "Answer Here- Yes, these insights can guide organizations to invest in and promote mental health benefits more actively. Providing clear information about these benefits and ensuring they are accessible can encourage more employees to seek help, improving overall well-being and productivity.\n",
        "Ignoring this could result in lower treatment rates, higher stress levels, and reduced employee engagement — all of which negatively impact business growth and retention."
      ],
      "metadata": {
        "id": "tBpY5ekJphqQ"
      }
    },
    {
      "cell_type": "markdown",
      "source": [
        "#### Chart - 10"
      ],
      "metadata": {
        "id": "U2RJ9gkRphqQ"
      }
    },
    {
      "cell_type": "code",
      "source": [
        "# Chart - 10 visualization code"
      ],
      "metadata": {
        "id": "GM7a4YP4phqQ"
      },
      "execution_count": null,
      "outputs": []
    },
    {
      "cell_type": "code",
      "source": [
        "# -----------------------------\n",
        "# Chart 10: Distribution of Age by Treatment Status split by Gender\n",
        "# -----------------------------\n",
        "import seaborn as sns\n",
        "import matplotlib.pyplot as plt\n",
        "\n",
        "# Make sure gender categories are clean\n",
        "df_clean = df[df['Gender'].isin(['male', 'female', 'other'])]\n",
        "\n",
        "# Create FacetGrid\n",
        "g = sns.FacetGrid(df_clean, col=\"Gender\", height=5, aspect=1)\n",
        "g.map(sns.histplot, \"Age\", bins=20, kde=True, color=\"teal\")\n",
        "g.set_titles(\"Gender: {col_name}\")\n",
        "g.set_axis_labels(\"Age\", \"Count\")\n",
        "g.fig.suptitle(\"Age Distribution by Gender (with Treatment Context)\", y=1.05)\n",
        "plt.show()\n"
      ],
      "metadata": {
        "id": "PlTeLwI_eKz5"
      },
      "execution_count": null,
      "outputs": []
    },
    {
      "cell_type": "markdown",
      "source": [
        "##### 1. Why did you pick the specific chart?"
      ],
      "metadata": {
        "id": "1M8mcRywphqQ"
      }
    },
    {
      "cell_type": "markdown",
      "source": [
        "Answer Here- I chose a FacetGrid histogram because it clearly shows the age distribution within each gender category in separate panels. This makes it easy to compare patterns across genders side by side and identify trends without overlap or clutter."
      ],
      "metadata": {
        "id": "8agQvks0phqQ"
      }
    },
    {
      "cell_type": "markdown",
      "source": [
        "##### 2. What is/are the insight(s) found from the chart?"
      ],
      "metadata": {
        "id": "tgIPom80phqQ"
      }
    },
    {
      "cell_type": "markdown",
      "source": [
        "Answer Here -\n",
        "From the chart, we can see that most respondents are males in the 25–35 age range, with a clear peak around 30. Female respondents also show a similar peak but in a slightly lower count range. Respondents who identified as \"other\" are fewer and have a wider spread in ages. This indicates that younger professionals are more engaged with mental health surveys, and gender representation is uneven.\n",
        "\n"
      ],
      "metadata": {
        "id": "Qp13pnNzphqQ"
      }
    },
    {
      "cell_type": "markdown",
      "source": [
        "##### 3. Will the gained insights help creating a positive business impact?\n",
        "Are there any insights that lead to negative growth? Justify with specific reason."
      ],
      "metadata": {
        "id": "JMzcOPDDphqR"
      }
    },
    {
      "cell_type": "markdown",
      "source": [
        "Answer Here - These insights can help target mental health programs by age and gender more effectively. Knowing the dominant age groups and gender distribution allows companies to tailor wellness campaigns to be more inclusive and focused. There are no direct negative impacts; rather, ignoring these differences could lead to lower engagement in support programs, indirectly affecting growth and employee well-being.\n",
        "\n"
      ],
      "metadata": {
        "id": "R4Ka1PC2phqR"
      }
    },
    {
      "cell_type": "markdown",
      "source": [
        "#### Chart - 11"
      ],
      "metadata": {
        "id": "x-EpHcCOp1ci"
      }
    },
    {
      "cell_type": "code",
      "source": [
        "# Chart - 11 visualization code"
      ],
      "metadata": {
        "id": "mAQTIvtqp1cj"
      },
      "execution_count": null,
      "outputs": []
    },
    {
      "cell_type": "code",
      "source": [
        "# Chart 11: Scatter plot — Age vs Company Size\n",
        "# Create a mapping to convert company size categories into approximate numeric values\n",
        "company_size_mapping = {\n",
        "    '1-5': 3,\n",
        "    '6-25': 15,\n",
        "    '26-100': 63,\n",
        "    '100-500': 300,\n",
        "    '500-1000': 750,\n",
        "    'More than 1000': 2000\n",
        "}\n",
        "\n",
        "# Map the 'no_employees' column to numeric values\n",
        "df['company_size_num'] = df['no_employees'].map(company_size_mapping)\n",
        "\n",
        "# ---------------------------------------------\n",
        "# Create scatter plot\n",
        "# ---------------------------------------------\n",
        "plt.figure(figsize=(10, 6))\n",
        "\n",
        "# Plot Age on y-axis and numeric company size on x-axis\n",
        "# alpha makes points slightly transparent to see overlaps better\n",
        "# edgecolors='w' adds white borders to points for better visibility\n",
        "plt.scatter(df['company_size_num'], df['Age'], alpha=0.6, color='teal', edgecolors='w')\n",
        "\n",
        "# ---------------------------------------------\n",
        "# Add titles and labels\n",
        "# ---------------------------------------------\n",
        "plt.title('Age vs Company Size (Scatter Plot)')\n",
        "plt.xlabel('Approximate Company Size')\n",
        "plt.ylabel('Age')\n",
        "\n",
        "# Add grid for easier reading\n",
        "plt.grid(True)\n",
        "\n",
        "# ---------------------------------------------\n",
        "# Show the plot\n",
        "# ---------------------------------------------\n",
        "plt.show()"
      ],
      "metadata": {
        "id": "Ge_4b1tSkSyk"
      },
      "execution_count": null,
      "outputs": []
    },
    {
      "cell_type": "markdown",
      "source": [
        "##### 1. Why did you pick the specific chart?"
      ],
      "metadata": {
        "id": "X_VqEhTip1ck"
      }
    },
    {
      "cell_type": "markdown",
      "source": [
        "Answer Here-I chose a scatter plot to show the relationship between age and company size because it helps to visualize how individual data points are distributed and whether any trend or pattern exists. Scatter plots are commonly used in data analysis to identify clusters, outliers, or potential correlations."
      ],
      "metadata": {
        "id": "-vsMzt_np1ck"
      }
    },
    {
      "cell_type": "markdown",
      "source": [
        "##### 2. What is/are the insight(s) found from the chart?"
      ],
      "metadata": {
        "id": "8zGJKyg5p1ck"
      }
    },
    {
      "cell_type": "markdown",
      "source": [
        "Answer Here-\n",
        "From the chart, we can see that respondents across different company sizes generally have a wide age distribution, with most respondents concentrated between ages 25 and 40. There is no strong visible trend showing age preference for certain company sizes, but larger companies (e.g., more than 1,000 employees) show a slightly broader age range, possibly indicating more diversity in workforce age."
      ],
      "metadata": {
        "id": "ZYdMsrqVp1ck"
      }
    },
    {
      "cell_type": "markdown",
      "source": [
        "##### 3. Will the gained insights help creating a positive business impact?\n",
        "Are there any insights that lead to negative growth? Justify with specific reason."
      ],
      "metadata": {
        "id": "PVzmfK_Ep1ck"
      }
    },
    {
      "cell_type": "markdown",
      "source": [
        "Answer Here-Yes, these insights can help companies understand the age diversity in different company sizes, which is important for planning mental health programs and employee support. If age diversity is high, tailored programs might be needed to support different age groups effectively. There are no insights from this chart that would lead to negative growth; instead, it helps highlight opportunities to improve inclusivity and employee well-being strategies."
      ],
      "metadata": {
        "id": "druuKYZpp1ck"
      }
    },
    {
      "cell_type": "markdown",
      "source": [
        "#### Chart - 12"
      ],
      "metadata": {
        "id": "n3dbpmDWp1ck"
      }
    },
    {
      "cell_type": "code",
      "source": [
        "# Chart - 12 visualization code"
      ],
      "metadata": {
        "id": "bwevp1tKp1ck"
      },
      "execution_count": null,
      "outputs": []
    },
    {
      "cell_type": "code",
      "source": [
        "# ---------------------------------------------\n",
        "# Import plotly.express as px\n",
        "# This is needed to create interactive Plotly charts\n",
        "# ---------------------------------------------\n",
        "import plotly.express as px\n",
        "\n",
        "# ---------------------------------------------\n",
        "# We are creating a Sunburst chart to show hierarchical relationships.\n",
        "# Example hierarchy:\n",
        "# Country → Gender → Treatment\n",
        "# ---------------------------------------------\n",
        "\n",
        "fig = px.sunburst(\n",
        "    df,\n",
        "    path=['Country', 'Gender', 'treatment'],  # Define the drill-down order\n",
        "    values=None,                              # Count rows automatically\n",
        "    color='treatment',                        # Color segments by treatment status\n",
        "    color_discrete_map={\n",
        "        'Yes': 'lightgreen',                  # Color for 'Yes'\n",
        "        'No': 'lightcoral'                    # Color for 'No'\n",
        "    },\n",
        "    title='Sunburst Chart: Country → Gender → Treatment'\n",
        ")\n",
        "\n",
        "# ---------------------------------------------\n",
        "# Adjust chart layout (margins)\n",
        "# ---------------------------------------------\n",
        "fig.update_layout(\n",
        "    margin=dict(t=40, l=0, r=0, b=0),\n",
        ")\n",
        "\n",
        "# ---------------------------------------------\n",
        "# Show interactive chart\n",
        "# ---------------------------------------------\n",
        "fig.show()\n"
      ],
      "metadata": {
        "id": "1HhSHjFMwKQB"
      },
      "execution_count": null,
      "outputs": []
    },
    {
      "cell_type": "markdown",
      "source": [
        "##### 1. Why did you pick the specific chart?"
      ],
      "metadata": {
        "id": "ylSl6qgtp1ck"
      }
    },
    {
      "cell_type": "markdown",
      "source": [
        "Answer Here-I chose a sunburst chart because it is excellent for showing hierarchical relationships in the data.\n",
        "\n",
        "In this case, we have Country → Gender → Treatment as a hierarchy.\n",
        "A sunburst helps us see how each segment (like gender or treatment) contributes within a country, and we can drill down step by step.\n",
        "It provides an intuitive, visual breakdown rather than using separate bar or pie charts."
      ],
      "metadata": {
        "id": "m2xqNkiQp1ck"
      }
    },
    {
      "cell_type": "markdown",
      "source": [
        "##### 2. What is/are the insight(s) found from the chart?"
      ],
      "metadata": {
        "id": "ZWILFDl5p1ck"
      }
    },
    {
      "cell_type": "markdown",
      "source": [
        "Answer Here- We see that in countries like the United States, males form the largest group, and within that, a large proportion have not sought treatment (the red segment).\n",
        "Females in most countries are more likely to have sought treatment (green), suggesting higher mental health awareness or willingness to seek help.\n",
        "Countries such as the United Kingdom and Canada show more balanced distributions between genders and treatment statuses."
      ],
      "metadata": {
        "id": "x-lUsV2mp1ck"
      }
    },
    {
      "cell_type": "markdown",
      "source": [
        "##### 3. Will the gained insights help creating a positive business impact?\n",
        "Are there any insights that lead to negative growth? Justify with specific reason."
      ],
      "metadata": {
        "id": "M7G43BXep1ck"
      }
    },
    {
      "cell_type": "markdown",
      "source": [
        "Answer Here - Positive Business Impact:\n",
        "\n",
        "Companies operating globally can tailor mental health initiatives per country and gender.\n",
        "For example, targeted awareness programs for males in the US could encourage more treatment seeking.\n",
        "HR policies can become more culturally and demographically sensitive.\n",
        "Potential negative insight (to address):\n",
        "\n",
        "If large segments of employees (like males in the US) do not seek treatment, it could lead to lower productivity, higher absenteeism, and poor workplace morale.\n",
        "This insight is crucial to act upon to avoid negative business growth in the long term.\n"
      ],
      "metadata": {
        "id": "5wwDJXsLp1cl"
      }
    },
    {
      "cell_type": "markdown",
      "source": [
        "#### Chart - 13"
      ],
      "metadata": {
        "id": "Ag9LCva-p1cl"
      }
    },
    {
      "cell_type": "code",
      "source": [
        "# Chart - 13 visualization code"
      ],
      "metadata": {
        "id": "EUfxeq9-p1cl"
      },
      "execution_count": null,
      "outputs": []
    },
    {
      "cell_type": "code",
      "source": [
        "fig = px.treemap(\n",
        "    df,\n",
        "    path=['Gender', 'remote_work', 'treatment'],\n",
        "    title='Treemap: Gender → Remote Work → Treatment',\n",
        "    color='treatment',\n",
        "    color_discrete_map={'Yes': 'green', 'No': 'red'}\n",
        ")\n",
        "fig.show()\n"
      ],
      "metadata": {
        "id": "D8A0_WsWD-O4"
      },
      "execution_count": null,
      "outputs": []
    },
    {
      "cell_type": "markdown",
      "source": [
        "##### 1. Why did you pick the specific chart?"
      ],
      "metadata": {
        "id": "E6MkPsBcp1cl"
      }
    },
    {
      "cell_type": "markdown",
      "source": [
        "Answer Here-The treemap chart is chosen because it allows us to represent multiple hierarchical categories together in a compact space. It shows Gender → Remote Work → Treatment in one view.\n",
        "Unlike bar or pie charts, it visualizes proportions within nested groups, making it easier to compare different subgroups at the same time."
      ],
      "metadata": {
        "id": "V22bRsFWp1cl"
      }
    },
    {
      "cell_type": "markdown",
      "source": [
        "##### 2. What is/are the insight(s) found from the chart?"
      ],
      "metadata": {
        "id": "2cELzS2fp1cl"
      }
    },
    {
      "cell_type": "markdown",
      "source": [
        "Answer Here-Male non-remote workers have a large proportion who did not seek treatment (large red block).\n",
        "Female non-remote workers show a higher rate of seeking treatment compared to males (green area is larger).\n",
        "Overall, there is a visible gap in treatment seeking among males, especially those not working remotely.\n",
        "The \"other\" gender group is very small, indicating low representation in this dataset.\n"
      ],
      "metadata": {
        "id": "ozQPc2_Ip1cl"
      }
    },
    {
      "cell_type": "markdown",
      "source": [
        "##### 3. Will the gained insights help creating a positive business impact?\n",
        "Are there any insights that lead to negative growth? Justify with specific reason."
      ],
      "metadata": {
        "id": "3MPXvC8up1cl"
      }
    },
    {
      "cell_type": "markdown",
      "source": [
        "Answer Here- Positive business impact:\n",
        "\n",
        "These insights can guide HR teams to design targeted mental health support, focusing on male employees, especially those working on-site.\n",
        "Helps promote a culture where seeking treatment is normalized.\n",
        " Any negative growth?\n",
        "\n",
        "No direct negative growth, but if these gaps are ignored, it may lead to higher absenteeism, burnout, or lower productivity among groups that are not seeking help.\n",
        "By acting on these insights, companies can improve employee well-being and long-term performance."
      ],
      "metadata": {
        "id": "GL8l1tdLp1cl"
      }
    },
    {
      "cell_type": "markdown",
      "source": [
        "#### Chart - 14 - Correlation Heatmap"
      ],
      "metadata": {
        "id": "NC_X3p0fY2L0"
      }
    },
    {
      "cell_type": "code",
      "source": [
        "# Correlation Heatmap visualization code"
      ],
      "metadata": {
        "id": "xyC9zolEZNRQ"
      },
      "execution_count": null,
      "outputs": []
    },
    {
      "cell_type": "code",
      "source": [
        "import matplotlib.pyplot as plt\n",
        "import seaborn as sns\n",
        "import numpy as np\n",
        "\n",
        "# Select only numeric columns\n",
        "df_numeric = df.select_dtypes(include=[np.number])\n",
        "\n",
        "# Calculate correlation matrix\n",
        "corr = df_numeric.corr()\n",
        "\n",
        "# Create a mask for weak correlations (absolute value < 0.5)\n",
        "mask = np.abs(corr) < 0.5\n",
        "\n",
        "# Set up the matplotlib figure\n",
        "plt.figure(figsize=(14, 10))\n",
        "\n",
        "# Draw the heatmap\n",
        "sns.heatmap(\n",
        "    corr,\n",
        "    mask=mask,           # Hide weak correlations\n",
        "    cmap='coolwarm',     # Color scheme for intensity\n",
        "    vmin=-1, vmax=1,     # Fix the color scale range from -1 to 1\n",
        "    annot=True,          # Show correlation coefficients\n",
        "    fmt='.2f',           # Decimal places\n",
        "    linewidths=0.5,\n",
        "    cbar_kws={'label': 'Correlation Coefficient'}  # Color bar label\n",
        ")\n",
        "\n",
        "plt.title('Correlation Heatmap (Stronger Correlations Highlighted by Intensity)', fontsize=16)\n",
        "plt.xticks(rotation=45, ha='right')\n",
        "plt.yticks(rotation=0)\n",
        "plt.show()\n"
      ],
      "metadata": {
        "id": "OgkTGqilHojP"
      },
      "execution_count": null,
      "outputs": []
    },
    {
      "cell_type": "markdown",
      "source": [
        "##### 1. Why did you pick the specific chart?"
      ],
      "metadata": {
        "id": "UV0SzAkaZNRQ"
      }
    },
    {
      "cell_type": "markdown",
      "source": [
        "Answer Here-I picked the correlation heatmap because it is a very effective way to quickly visualize relationships between multiple numerical features in one glance.\n",
        "\n",
        "It shows both the strength and the direction (positive or negative) of correlations using color intensity and numerical values.\n",
        "It helps in identifying which variables are strongly related, which can guide further analysis or feature selection in modeling.\n"
      ],
      "metadata": {
        "id": "DVPuT8LYZNRQ"
      }
    },
    {
      "cell_type": "markdown",
      "source": [
        "##### 2. What is/are the insight(s) found from the chart?"
      ],
      "metadata": {
        "id": "YPEH6qLeZNRQ"
      }
    },
    {
      "cell_type": "markdown",
      "source": [
        "Answer Here-From this heatmap:\n",
        "\n",
        "The only strong correlation highlighted is between Age and company_size_num, and it is perfectly 1.0 (as shown in red).\n",
        "All other weak correlations were masked out (blanked) to focus only on strong relationships.\n",
        "This suggests that either:\n",
        "\n",
        "These columns might actually represent the same or derived data (e.g., company_size_num might be accidentally coded using Age or vice versa), or\n",
        "There is a data issue or strong encoding overlap that needs to be checked."
      ],
      "metadata": {
        "id": "bfSqtnDqZNRR"
      }
    },
    {
      "cell_type": "markdown",
      "source": [
        "#### Chart - 15 - Pair Plot"
      ],
      "metadata": {
        "id": "q29F0dvdveiT"
      }
    },
    {
      "cell_type": "code",
      "source": [
        "# Pair Plot visualization code"
      ],
      "metadata": {
        "id": "o58-TEIhveiU"
      },
      "execution_count": null,
      "outputs": []
    },
    {
      "cell_type": "code",
      "source": [
        "# Import necessary libraries\n",
        "import seaborn as sns\n",
        "import matplotlib.pyplot as plt\n",
        "\n",
        "# Select numerical columns only for pair plot\n",
        "# You may customize this list as per your cleaned and encoded dataset\n",
        "numerical_cols = ['Age', 'company_size_num', 'no_employees', 'work_interfere']\n",
        "\n",
        "# Create the pair plot\n",
        "sns.pairplot(df[numerical_cols], diag_kind='kde', hue='work_interfere')\n",
        "\n",
        "# Add a title to the whole plot\n",
        "plt.suptitle('Pair Plot of Selected Numerical Features', y=1.02)\n",
        "\n",
        "# Show the plot\n",
        "plt.show()\n"
      ],
      "metadata": {
        "id": "3DGPg9syKtP1"
      },
      "execution_count": null,
      "outputs": []
    },
    {
      "cell_type": "markdown",
      "source": [
        "##### 1. Why did you pick the specific chart?"
      ],
      "metadata": {
        "id": "EXh0U9oCveiU"
      }
    },
    {
      "cell_type": "markdown",
      "source": [
        "Answer Here- I chose the pair plot because it helps visualize relationships and correlations between multiple numerical variables in a single compact plot. It also shows distributions on the diagonal, giving a complete overview of data spread and possible patterns in different combinations. Adding hue (work_interfere) gives further context on how different levels of work interference impact these relationships."
      ],
      "metadata": {
        "id": "eMmPjTByveiU"
      }
    },
    {
      "cell_type": "markdown",
      "source": [
        "##### 2. What is/are the insight(s) found from the chart?"
      ],
      "metadata": {
        "id": "22aHeOlLveiV"
      }
    },
    {
      "cell_type": "markdown",
      "source": [
        "Answer Here- We can see that age distribution is mostly clustered between 20 and 40, with slight variations across different work interference categories.\n",
        "Most respondents are from companies of smaller or very large sizes, suggesting a polarized distribution.\n",
        "There isn’t a strong visible linear relationship between age and company size, but patterns hint at younger respondents often working in both very small and very large companies.\n",
        "Work interference levels are spread across company sizes and ages, but \"Sometimes\" interference seems more common in middle-age groups.\n"
      ],
      "metadata": {
        "id": "uPQ8RGwHveiV"
      }
    },
    {
      "cell_type": "markdown",
      "source": [
        "## **5. Solution to Business Objective**"
      ],
      "metadata": {
        "id": "JcMwzZxoAimU"
      }
    },
    {
      "cell_type": "markdown",
      "source": [
        "#### What do you suggest the client to achieve Business Objective ?\n",
        "Explain Briefly."
      ],
      "metadata": {
        "id": "8G2x9gOozGDZ"
      }
    },
    {
      "cell_type": "markdown",
      "source": [
        "Answer Here- Business Objective Recommendation (Concise)\n",
        "1️⃣ Improve mental health benefits and clearly communicate them to increase treatment uptake and reduce stigma.\n",
        "\n",
        "2️⃣ Tailor awareness programs by gender and region, since male employees and certain countries show lower treatment-seeking behavior.\n",
        "\n",
        "3️⃣ Promote flexible and remote work options to support mental well-being.\n",
        "\n",
        "4️⃣ Train managers to reduce work interference perceptions and encourage open mental health discussions.\n",
        "\n",
        "5️⃣ Develop company-size-specific strategies, focusing on reducing barriers in larger firms."
      ],
      "metadata": {
        "id": "pASKb0qOza21"
      }
    },
    {
      "cell_type": "markdown",
      "source": [
        "# **Conclusion**"
      ],
      "metadata": {
        "id": "gCX9965dhzqZ"
      }
    },
    {
      "cell_type": "markdown",
      "source": [
        "Write the conclusion here.\n",
        "The analysis shows that mental health support at workplaces is still inadequate. Many employees, especially males and those in larger companies, hesitate to seek treatment due to stigma and fear of negative consequences. Younger employees and females are more open to discussing mental health. Companies should strengthen mental health benefits, promote open communication, and create supportive work cultures to improve employee well-being and productivity."
      ],
      "metadata": {
        "id": "Fjb1IsQkh3yE"
      }
    },
    {
      "cell_type": "markdown",
      "source": [
        "### ***Hurrah! You have successfully completed your EDA Capstone Project !!!***"
      ],
      "metadata": {
        "id": "gIfDvo9L0UH2"
      }
    },
    {
      "cell_type": "code",
      "source": [],
      "metadata": {
        "id": "dYX880etpL0x"
      },
      "execution_count": null,
      "outputs": []
    },
    {
      "cell_type": "code",
      "source": [],
      "metadata": {
        "id": "-6Vl263upPVI"
      },
      "execution_count": null,
      "outputs": []
    }
  ]
}